{
 "cells": [
  {
   "cell_type": "code",
   "execution_count": 1,
   "id": "e28d5a2e-bf17-4397-b1e5-6cf0c3cf72b6",
   "metadata": {},
   "outputs": [],
   "source": [
    "from anapytools import read_data as rd "
   ]
  },
  {
   "cell_type": "code",
   "execution_count": 2,
   "id": "ac34a1e2-3bc2-4d6f-84c0-4d6a1f56c4a2",
   "metadata": {},
   "outputs": [
    {
     "name": "stdout",
     "output_type": "stream",
     "text": [
      "---> Reading file:\n",
      "nts.sgrant.CosmicCRYExtractedCatTriggered.MDC2020ae_best_v1_3.001205_00000032.root\n",
      "\n",
      "---> Created xroot url:\n",
      "root://fndcadoor.fnal.gov:1094/mu2e/tape/usr-nts/nts/sgrant/CosmicCRYExtractedCatTriggered/MDC2020ae_best_v1_3/root/1f/26/nts.sgrant.CosmicCRYExtractedCatTriggered.MDC2020ae_best_v1_3.001205_00000032.root\n",
      "\n",
      "---> Opening file with uproot...\n",
      "Done!\n"
     ]
    }
   ],
   "source": [
    "file_list = rd.read_file(filename='nts.sgrant.CosmicCRYExtractedCatTriggered.MDC2020ae_best_v1_3.001205_00000032.root', quiet=False)"
   ]
  },
  {
   "cell_type": "code",
   "execution_count": 3,
   "id": "0672a8ba-a474-401c-9fdc-87d486da771b",
   "metadata": {},
   "outputs": [
    {
     "name": "stdout",
     "output_type": "stream",
     "text": [
      "---> Getting file list for nts.sgrant.CosmicCRYExtractedCatTriggered.MDC2020ae_best_v1_3.root.\n",
      "Done!\n"
     ]
    }
   ],
   "source": [
    "file = rd.get_file_list(defname='nts.sgrant.CosmicCRYExtractedCatTriggered.MDC2020ae_best_v1_3.root', quiet=False)"
   ]
  },
  {
   "cell_type": "code",
   "execution_count": 4,
   "id": "b40aa525-060d-405a-a51b-196897993859",
   "metadata": {},
   "outputs": [],
   "source": [
    "# def test_get_file_list(defname): \n",
    "#     file_list = rd.get_file_list(defname) \n",
    "#     return file_list"
   ]
  },
  {
   "cell_type": "code",
   "execution_count": 5,
   "id": "3b485a67-4173-467f-96e0-44b7302f53c5",
   "metadata": {},
   "outputs": [],
   "source": [
    "# def test_read_file(filename):  \n",
    "#     file = rd.read_file(filename) \n",
    "#     return file"
   ]
  },
  {
   "cell_type": "code",
   "execution_count": 6,
   "id": "b170ea1b-c0a2-4dea-963b-e5c3407cced5",
   "metadata": {},
   "outputs": [],
   "source": [
    "# # Some issue with TrkAna tutorial files?\n",
    "# # I don't have time to debug this right now.\n",
    "# print(file_list)\n",
    "# file = test_read_file(file_list[1])"
   ]
  },
  {
   "cell_type": "code",
   "execution_count": null,
   "id": "33d0675e-86b2-4fde-9795-c543fac10a3e",
   "metadata": {},
   "outputs": [],
   "source": []
  }
 ],
 "metadata": {
  "kernelspec": {
   "display_name": "mu2e_env",
   "language": "python",
   "name": "mu2e_env"
  },
  "language_info": {
   "codemirror_mode": {
    "name": "ipython",
    "version": 3
   },
   "file_extension": ".py",
   "mimetype": "text/x-python",
   "name": "python",
   "nbconvert_exporter": "python",
   "pygments_lexer": "ipython3",
   "version": "3.12.7"
  }
 },
 "nbformat": 4,
 "nbformat_minor": 5
}
