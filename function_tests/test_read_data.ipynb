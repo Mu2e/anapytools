{
 "cells": [
  {
   "cell_type": "code",
   "execution_count": 1,
   "id": "e28d5a2e-bf17-4397-b1e5-6cf0c3cf72b6",
   "metadata": {},
   "outputs": [],
   "source": [
    "from mu2etools import read_data as rd "
   ]
  },
  {
   "cell_type": "code",
   "execution_count": 2,
   "id": "b40aa525-060d-405a-a51b-196897993859",
   "metadata": {},
   "outputs": [],
   "source": [
    "def test_get_file_list(defname): \n",
    "    file_list = rd.get_file_list(defname) \n",
    "    return file_list"
   ]
  },
  {
   "cell_type": "code",
   "execution_count": 3,
   "id": "ac34a1e2-3bc2-4d6f-84c0-4d6a1f56c4a2",
   "metadata": {},
   "outputs": [
    {
     "name": "stdout",
     "output_type": "stream",
     "text": [
      "---> Getting file list for nts.mu2e.CeEndpointMix1BBSignal.Tutorial_2024_03.tka.\n",
      "Done!\n"
     ]
    }
   ],
   "source": [
    "file_list = test_get_file_list(defname='nts.mu2e.CeEndpointMix1BBSignal.Tutorial_2024_03.tka')"
   ]
  },
  {
   "cell_type": "code",
   "execution_count": 5,
   "id": "3b485a67-4173-467f-96e0-44b7302f53c5",
   "metadata": {},
   "outputs": [],
   "source": [
    "def test_read_file(filename):  \n",
    "    file = rd.read_file(filename) \n",
    "    return file"
   ]
  },
  {
   "cell_type": "code",
   "execution_count": 6,
   "id": "0672a8ba-a474-401c-9fdc-87d486da771b",
   "metadata": {},
   "outputs": [
    {
     "ename": "NameError",
     "evalue": "name 'read_file' is not defined",
     "output_type": "error",
     "traceback": [
      "\u001b[0;31m---------------------------------------------------------------------------\u001b[0m",
      "\u001b[0;31mNameError\u001b[0m                                 Traceback (most recent call last)",
      "Cell \u001b[0;32mIn[6], line 1\u001b[0m\n\u001b[0;32m----> 1\u001b[0m file \u001b[38;5;241m=\u001b[39m \u001b[43mtest_read_file\u001b[49m\u001b[43m(\u001b[49m\u001b[38;5;124;43m'\u001b[39;49m\u001b[38;5;124;43mnts.sgrant.CosmicCRYExtractedCatTriggered.MDC2020ae_best_v1_3.001205_00000032.root\u001b[39;49m\u001b[38;5;124;43m'\u001b[39;49m\u001b[43m)\u001b[49m\n",
      "Cell \u001b[0;32mIn[5], line 2\u001b[0m, in \u001b[0;36mtest_read_file\u001b[0;34m(filename)\u001b[0m\n\u001b[1;32m      1\u001b[0m \u001b[38;5;28;01mdef\u001b[39;00m \u001b[38;5;21mtest_read_file\u001b[39m(filename):  \n\u001b[0;32m----> 2\u001b[0m     file \u001b[38;5;241m=\u001b[39m \u001b[43mread_file\u001b[49m(filename) \n\u001b[1;32m      3\u001b[0m     \u001b[38;5;28;01mreturn\u001b[39;00m file\n",
      "\u001b[0;31mNameError\u001b[0m: name 'read_file' is not defined"
     ]
    }
   ],
   "source": [
    "file = test_read_file('nts.sgrant.CosmicCRYExtractedCatTriggered.MDC2020ae_best_v1_3.001205_00000032.root')"
   ]
  },
  {
   "cell_type": "code",
   "execution_count": null,
   "id": "b170ea1b-c0a2-4dea-963b-e5c3407cced5",
   "metadata": {},
   "outputs": [],
   "source": [
    "# Some issue with TrkAna tutorial files?\n",
    "# I don't have time to debug this right now.\n",
    "print(file_list)\n",
    "file = test_read_file(file_list[1])"
   ]
  }
 ],
 "metadata": {
  "kernelspec": {
   "display_name": "mu2e_env",
   "language": "python",
   "name": "mu2e_env"
  },
  "language_info": {
   "codemirror_mode": {
    "name": "ipython",
    "version": 3
   },
   "file_extension": ".py",
   "mimetype": "text/x-python",
   "name": "python",
   "nbconvert_exporter": "python",
   "pygments_lexer": "ipython3",
   "version": "3.12.5"
  }
 },
 "nbformat": 4,
 "nbformat_minor": 5
}
