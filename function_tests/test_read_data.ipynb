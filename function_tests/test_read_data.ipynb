{
 "cells": [
  {
   "cell_type": "code",
   "execution_count": 1,
   "id": "6fbffe62-4a9f-452f-ad81-2e23aabf067c",
   "metadata": {},
   "outputs": [],
   "source": [
    "# sys.path.append(os.path.abspath(\"..\")) # for local test\n",
    "from anapytools.read_data import DataReader"
   ]
  },
  {
   "cell_type": "code",
   "execution_count": 2,
   "id": "033d9747-c6c2-4a2b-be8d-d4de2b708d8f",
   "metadata": {},
   "outputs": [],
   "source": [
    "reader = DataReader()"
   ]
  },
  {
   "cell_type": "code",
   "execution_count": 3,
   "id": "f25a93ef-e127-4793-9f9b-b004f5291afb",
   "metadata": {},
   "outputs": [
    {
     "name": "stdout",
     "output_type": "stream",
     "text": [
      "---> Reading file:\n",
      "nts.sgrant.CosmicCRYExtractedCatTriggered.MDC2020ae_best_v1_3.001205_00000032.root\n",
      "\n",
      "---> Created xroot url:\n",
      "root://fndcadoor.fnal.gov:1094/mu2e/tape/usr-nts/nts/sgrant/CosmicCRYExtractedCatTriggered/MDC2020ae_best_v1_3/root/1f/26/nts.sgrant.CosmicCRYExtractedCatTriggered.MDC2020ae_best_v1_3.001205_00000032.root\n",
      "\n",
      "---> Opening file with uproot...\n",
      "Done!\n"
     ]
    }
   ],
   "source": [
    "file_list = reader.read_file(filename='nts.sgrant.CosmicCRYExtractedCatTriggered.MDC2020ae_best_v1_3.001205_00000032.root', quiet=False)"
   ]
  },
  {
   "cell_type": "code",
   "execution_count": 12,
   "id": "c2a52918-63c6-43bc-8dfc-3eb0bda6d07c",
   "metadata": {},
   "outputs": [
    {
     "name": "stdout",
     "output_type": "stream",
     "text": [
      "---> Getting file list for nts.sgrant.CosmicCRYExtractedCatTriggered.MDC2020ae_best_v1_3.root.\n",
      "Done!\n"
     ]
    }
   ],
   "source": [
    "file_list = reader.get_file_list(defname='nts.sgrant.CosmicCRYExtractedCatTriggered.MDC2020ae_best_v1_3.root', quiet=False)"
   ]
  },
  {
   "cell_type": "code",
   "execution_count": null,
   "id": "9c396b08-ebaa-4af2-8779-6536276f1986",
   "metadata": {},
   "outputs": [],
   "source": []
  }
 ],
 "metadata": {
  "kernelspec": {
   "display_name": "test_env.v1.0.0",
   "language": "python",
   "name": "test_env.v1.0.0"
  },
  "language_info": {
   "codemirror_mode": {
    "name": "ipython",
    "version": 3
   },
   "file_extension": ".py",
   "mimetype": "text/x-python",
   "name": "python",
   "nbconvert_exporter": "python",
   "pygments_lexer": "ipython3",
   "version": "3.13.0"
  }
 },
 "nbformat": 4,
 "nbformat_minor": 5
}
