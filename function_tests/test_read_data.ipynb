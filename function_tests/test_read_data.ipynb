{
 "cells": [
  {
   "cell_type": "code",
   "execution_count": 3,
   "id": "e28d5a2e-bf17-4397-b1e5-6cf0c3cf72b6",
   "metadata": {},
   "outputs": [],
   "source": [
    "from mu2e_tools import read_data as rd "
   ]
  },
  {
   "cell_type": "code",
   "execution_count": 4,
   "id": "b40aa525-060d-405a-a51b-196897993859",
   "metadata": {},
   "outputs": [],
   "source": [
    "def test_get_file_list(defname): \n",
    "    file_list = rd.get_file_list(defname) \n",
    "    print(file_list)\n",
    "    return"
   ]
  },
  {
   "cell_type": "code",
   "execution_count": 5,
   "id": "ac34a1e2-3bc2-4d6f-84c0-4d6a1f56c4a2",
   "metadata": {},
   "outputs": [
    {
     "name": "stdout",
     "output_type": "stream",
     "text": [
      "---> Reading file:\n",
      "nts.sgrant.CosmicCRYExtractedCatTriggered.MDC2020ae_best_v1_3.001205_00000231.root\n",
      "\n",
      "---> Created xroot url:\n",
      "root://fndcadoor.fnal.gov:1094/mu2e/tape/usr-nts/nts/sgrant/CosmicCRYExtractedCatTriggered/MDC2020ae_best_v1_3/root/c4/15/nts.sgrant.CosmicCRYExtractedCatTriggered.MDC2020ae_best_v1_3.001205_00000231.root\n",
      "\n",
      "---> Opening file with uproot...\n",
      "Done!\n"
     ]
    }
   ],
   "source": [
    "file_list = test_get_file_list(defname='nts.mu2e.CeEndpointMix1BBSignal.Tutorial_2024_03.tka')"
   ]
  },
  {
   "cell_type": "code",
   "execution_count": 4,
   "id": "3b485a67-4173-467f-96e0-44b7302f53c5",
   "metadata": {},
   "outputs": [],
   "source": [
    "def test_read_file(filename):  \n",
    "    file = rd.read_file(filename) \n",
    "    return "
   ]
  },
  {
   "cell_type": "code",
   "execution_count": 5,
   "id": "0672a8ba-a474-401c-9fdc-87d486da771b",
   "metadata": {},
   "outputs": [
    {
     "name": "stdout",
     "output_type": "stream",
     "text": [
      "---> Reading file:\n",
      "nts.sgrant.CosmicCRYExtractedCatTriggered.MDC2020ae_best_v1_3.001205_00000000.root\n",
      "\n",
      "---> Created xroot url:\n",
      "root://fndcadoor.fnal.gov:1094/mu2e/tape/usr-nts/nts/sgrant/CosmicCRYExtractedCatTriggered/MDC2020ae_best_v1_3/root/eb/72/nts.sgrant.CosmicCRYExtractedCatTriggered.MDC2020ae_best_v1_3.001205_00000000.root\n",
      "\n",
      "---> Opening file with uproot...\n",
      "Done!\n"
     ]
    }
   ],
   "source": [
    "test_read_file(file_list[0])"
   ]
  },
  {
   "cell_type": "code",
   "execution_count": null,
   "id": "b170ea1b-c0a2-4dea-963b-e5c3407cced5",
   "metadata": {},
   "outputs": [],
   "source": []
  }
 ],
 "metadata": {
  "kernelspec": {
   "display_name": "Mu2eEnv",
   "language": "python",
   "name": "mu2eenv"
  },
  "language_info": {
   "codemirror_mode": {
    "name": "ipython",
    "version": 3
   },
   "file_extension": ".py",
   "mimetype": "text/x-python",
   "name": "python",
   "nbconvert_exporter": "python",
   "pygments_lexer": "ipython3",
   "version": "3.10.14"
  }
 },
 "nbformat": 4,
 "nbformat_minor": 5
}
