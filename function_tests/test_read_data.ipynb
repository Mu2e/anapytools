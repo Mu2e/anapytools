{
 "cells": [
  {
   "cell_type": "code",
   "execution_count": 1,
   "id": "e28d5a2e-bf17-4397-b1e5-6cf0c3cf72b6",
   "metadata": {},
   "outputs": [
    {
     "ename": "SyntaxError",
     "evalue": "invalid syntax (read_data.py, line 50)",
     "output_type": "error",
     "traceback": [
      "Traceback \u001b[0;36m(most recent call last)\u001b[0m:\n",
      "\u001b[0m  File \u001b[1;32m~/.conda/envs/mu2e_env/lib/python3.12/site-packages/IPython/core/interactiveshell.py:3577\u001b[0m in \u001b[1;35mrun_code\u001b[0m\n    exec(code_obj, self.user_global_ns, self.user_ns)\u001b[0m\n",
      "\u001b[0;36m  Cell \u001b[0;32mIn[1], line 1\u001b[0;36m\n\u001b[0;31m    from mu2e_tools import read_data as rd\u001b[0;36m\n",
      "\u001b[0;36m  File \u001b[0;32m~/.conda/envs/mu2e_env/lib/python3.12/site-packages/mu2e_tools/read_data.py:50\u001b[0;36m\u001b[0m\n\u001b[0;31m    commands += f'samweb list-files 'defname: {defname} with availability anylocation' | sort -V'\u001b[0m\n\u001b[0m                                     ^\u001b[0m\n\u001b[0;31mSyntaxError\u001b[0m\u001b[0;31m:\u001b[0m invalid syntax\n"
     ]
    }
   ],
   "source": [
    "from mu2etools import read_data as rd "
   ]
  },
  {
   "cell_type": "code",
   "execution_count": null,
   "id": "b40aa525-060d-405a-a51b-196897993859",
   "metadata": {},
   "outputs": [],
   "source": [
    "def test_get_file_list(defname): \n",
    "    file_list = rd.get_file_list(defname) \n",
    "    print(file_list)\n",
    "    return"
   ]
  },
  {
   "cell_type": "code",
   "execution_count": null,
   "id": "ac34a1e2-3bc2-4d6f-84c0-4d6a1f56c4a2",
   "metadata": {},
   "outputs": [],
   "source": [
    "file_list = test_get_file_list(defname='nts.mu2e.CeEndpointMix1BBSignal.Tutorial_2024_03.tka')"
   ]
  },
  {
   "cell_type": "code",
   "execution_count": null,
   "id": "3b485a67-4173-467f-96e0-44b7302f53c5",
   "metadata": {},
   "outputs": [],
   "source": [
    "def test_read_file(filename):  \n",
    "    file = rd.read_file(filename) \n",
    "    return "
   ]
  },
  {
   "cell_type": "code",
   "execution_count": null,
   "id": "0672a8ba-a474-401c-9fdc-87d486da771b",
   "metadata": {},
   "outputs": [],
   "source": [
    "test_read_file(file_list[0])"
   ]
  },
  {
   "cell_type": "code",
   "execution_count": null,
   "id": "b170ea1b-c0a2-4dea-963b-e5c3407cced5",
   "metadata": {},
   "outputs": [],
   "source": []
  }
 ],
 "metadata": {
  "kernelspec": {
   "display_name": "mu2e_env",
   "language": "python",
   "name": "mu2e_env"
  },
  "language_info": {
   "codemirror_mode": {
    "name": "ipython",
    "version": 3
   },
   "file_extension": ".py",
   "mimetype": "text/x-python",
   "name": "python",
   "nbconvert_exporter": "python",
   "pygments_lexer": "ipython3",
   "version": "3.12.5"
  }
 },
 "nbformat": 4,
 "nbformat_minor": 5
}
