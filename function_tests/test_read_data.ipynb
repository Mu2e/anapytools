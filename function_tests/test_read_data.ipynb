{
 "cells": [
  {
   "cell_type": "code",
   "execution_count": 1,
   "id": "e28d5a2e-bf17-4397-b1e5-6cf0c3cf72b6",
   "metadata": {},
   "outputs": [],
   "source": [
    "from mu2etools import read_data as rd "
   ]
  },
  {
   "cell_type": "code",
   "execution_count": 2,
   "id": "b40aa525-060d-405a-a51b-196897993859",
   "metadata": {},
   "outputs": [],
   "source": [
    "def test_get_file_list(defname): \n",
    "    file_list = rd.get_file_list(defname) \n",
    "    return file_list"
   ]
  },
  {
   "cell_type": "code",
   "execution_count": 3,
   "id": "ac34a1e2-3bc2-4d6f-84c0-4d6a1f56c4a2",
   "metadata": {},
   "outputs": [
    {
     "name": "stdout",
     "output_type": "stream",
     "text": [
      "---> Getting file list for nts.mu2e.CeEndpointMix1BBSignal.Tutorial_2024_03.tka.\n",
      "Done!\n"
     ]
    }
   ],
   "source": [
    "file_list = test_get_file_list(defname='nts.mu2e.CeEndpointMix1BBSignal.Tutorial_2024_03.tka')"
   ]
  },
  {
   "cell_type": "code",
   "execution_count": 4,
   "id": "3b485a67-4173-467f-96e0-44b7302f53c5",
   "metadata": {},
   "outputs": [],
   "source": [
    "def test_read_file(filename):  \n",
    "    file = rd.read_file(filename) \n",
    "    return file"
   ]
  },
  {
   "cell_type": "code",
   "execution_count": 5,
   "id": "0672a8ba-a474-401c-9fdc-87d486da771b",
   "metadata": {},
   "outputs": [
    {
     "name": "stdout",
     "output_type": "stream",
     "text": [
      "---> Reading file:\n",
      "nts.sgrant.CosmicCRYExtractedCatTriggered.MDC2020ae_best_v1_3.001205_00000032.root\n",
      "\n",
      "---> Created xroot url:\n",
      "root://fndcadoor.fnal.gov:1094/mu2e/tape/usr-nts/nts/sgrant/CosmicCRYExtractedCatTriggered/MDC2020ae_best_v1_3/root/1f/26/nts.sgrant.CosmicCRYExtractedCatTriggered.MDC2020ae_best_v1_3.001205_00000032.root\n",
      "\n",
      "---> Opening file with uproot...\n",
      "Done!\n"
     ]
    }
   ],
   "source": [
    "file = test_read_file('nts.sgrant.CosmicCRYExtractedCatTriggered.MDC2020ae_best_v1_3.001205_00000032.root')"
   ]
  },
  {
   "cell_type": "code",
   "execution_count": 6,
   "id": "b170ea1b-c0a2-4dea-963b-e5c3407cced5",
   "metadata": {},
   "outputs": [
    {
     "name": "stdout",
     "output_type": "stream",
     "text": [
      "['nts.mu2e.CeEndpointMix1BBSignal.Tutorial_2024_03.001210_00000000.tka', 'nts.mu2e.CeEndpointMix1BBSignal.Tutorial_2024_03.001210_00000014.tka', 'nts.mu2e.CeEndpointMix1BBSignal.Tutorial_2024_03.001210_00000031.tka', 'nts.mu2e.CeEndpointMix1BBSignal.Tutorial_2024_03.001210_00000065.tka', 'nts.mu2e.CeEndpointMix1BBSignal.Tutorial_2024_03.001210_00000080.tka', 'nts.mu2e.CeEndpointMix1BBSignal.Tutorial_2024_03.001210_00000107.tka', 'nts.mu2e.CeEndpointMix1BBSignal.Tutorial_2024_03.001210_00000119.tka', 'nts.mu2e.CeEndpointMix1BBSignal.Tutorial_2024_03.001210_00000135.tka', 'nts.mu2e.CeEndpointMix1BBSignal.Tutorial_2024_03.001210_00000148.tka', 'nts.mu2e.CeEndpointMix1BBSignal.Tutorial_2024_03.001210_00000164.tka', 'nts.mu2e.CeEndpointMix1BBSignal.Tutorial_2024_03.001210_00000177.tka', 'nts.mu2e.CeEndpointMix1BBSignal.Tutorial_2024_03.001210_00000191.tka', 'nts.mu2e.CeEndpointMix1BBSignal.Tutorial_2024_03.001210_00000202.tka', 'nts.mu2e.CeEndpointMix1BBSignal.Tutorial_2024_03.001210_00000215.tka', 'nts.mu2e.CeEndpointMix1BBSignal.Tutorial_2024_03.001210_00000235.tka', 'nts.mu2e.CeEndpointMix1BBSignal.Tutorial_2024_03.001210_00000255.tka', 'nts.mu2e.CeEndpointMix1BBSignal.Tutorial_2024_03.001210_00000274.tka', 'nts.mu2e.CeEndpointMix1BBSignal.Tutorial_2024_03.001210_00000296.tka', 'nts.mu2e.CeEndpointMix1BBSignal.Tutorial_2024_03.001210_00000323.tka', 'nts.mu2e.CeEndpointMix1BBSignal.Tutorial_2024_03.001210_00000350.tka', 'nts.mu2e.CeEndpointMix1BBSignal.Tutorial_2024_03.001210_00000377.tka', 'nts.mu2e.CeEndpointMix1BBSignal.Tutorial_2024_03.001210_00000394.tka', 'nts.mu2e.CeEndpointMix1BBSignal.Tutorial_2024_03.001210_00000413.tka', 'nts.mu2e.CeEndpointMix1BBSignal.Tutorial_2024_03.001210_00000438.tka', 'nts.mu2e.CeEndpointMix1BBSignal.Tutorial_2024_03.001210_00000459.tka', 'nts.mu2e.CeEndpointMix1BBSignal.Tutorial_2024_03.001210_00000475.tka', 'nts.mu2e.CeEndpointMix1BBSignal.Tutorial_2024_03.001210_00000495.tka', 'nts.mu2e.CeEndpointMix1BBSignal.Tutorial_2024_03.001210_00000512.tka', 'nts.mu2e.CeEndpointMix1BBSignal.Tutorial_2024_03.001210_00000536.tka', 'nts.mu2e.CeEndpointMix1BBSignal.Tutorial_2024_03.001210_00000555.tka', 'nts.mu2e.CeEndpointMix1BBSignal.Tutorial_2024_03.001210_00000576.tka', 'nts.mu2e.CeEndpointMix1BBSignal.Tutorial_2024_03.001210_00000602.tka', 'nts.mu2e.CeEndpointMix1BBSignal.Tutorial_2024_03.001210_00000619.tka', 'nts.mu2e.CeEndpointMix1BBSignal.Tutorial_2024_03.001210_00000633.tka', 'nts.mu2e.CeEndpointMix1BBSignal.Tutorial_2024_03.001210_00000659.tka', 'nts.mu2e.CeEndpointMix1BBSignal.Tutorial_2024_03.001210_00000695.tka', 'nts.mu2e.CeEndpointMix1BBSignal.Tutorial_2024_03.001210_00000716.tka', 'nts.mu2e.CeEndpointMix1BBSignal.Tutorial_2024_03.001210_00000733.tka', 'nts.mu2e.CeEndpointMix1BBSignal.Tutorial_2024_03.001210_00000748.tka', 'nts.mu2e.CeEndpointMix1BBSignal.Tutorial_2024_03.001210_00000773.tka', 'nts.mu2e.CeEndpointMix1BBSignal.Tutorial_2024_03.001210_00000799.tka', 'nts.mu2e.CeEndpointMix1BBSignal.Tutorial_2024_03.001210_00000835.tka', 'nts.mu2e.CeEndpointMix1BBSignal.Tutorial_2024_03.001210_00000859.tka', 'nts.mu2e.CeEndpointMix1BBSignal.Tutorial_2024_03.001210_00000899.tka', 'nts.mu2e.CeEndpointMix1BBSignal.Tutorial_2024_03.001210_00000916.tka', 'nts.mu2e.CeEndpointMix1BBSignal.Tutorial_2024_03.001210_00000930.tka', 'nts.mu2e.CeEndpointMix1BBSignal.Tutorial_2024_03.001210_00000945.tka', 'nts.mu2e.CeEndpointMix1BBSignal.Tutorial_2024_03.001210_00000966.tka', 'nts.mu2e.CeEndpointMix1BBSignal.Tutorial_2024_03.001210_00000984.tka', 'nts.mu2e.CeEndpointMix1BBSignal.Tutorial_2024_03.001210_00000998.tka']\n",
      "---> Reading file:\n",
      "nts.mu2e.CeEndpointMix1BBSignal.Tutorial_2024_03.001210_00000014.tka\n",
      "\n",
      "---> Created xroot url:\n",
      "root://fndcadoor.fnal.gov:1094/mu2e/tape/phy-nts/nts/mu2e/CeEndpointMix1BBSignal/Tutorial_2024_03/tka/1d/eb/nts.mu2e.CeEndpointMix1BBSignal.Tutorial_2024_03.001210_00000014.tka\n",
      "\n",
      "---> Opening file with uproot...\n",
      "\n",
      "----> Exception timeout while opening root://fndcadoor.fnal.gov:1094/mu2e/tape/phy-nts/nts/mu2e/CeEndpointMix1BBSignal/Tutorial_2024_03/tka/1d/eb/nts.mu2e.CeEndpointMix1BBSignal.Tutorial_2024_03.001210_00000014.tka\n",
      "!\n",
      "File did not open properly: [ERROR] Server responded with an error: [3011] No such file\n",
      "\n",
      "---> Retrying locally.\n"
     ]
    },
    {
     "name": "stderr",
     "output_type": "stream",
     "text": [
      "/bin/sh: -c: line 2: syntax error near unexpected token `|'\n",
      "/bin/sh: -c: line 2: ` | mdh copy-file -s tape -l local -'\n"
     ]
    },
    {
     "ename": "CalledProcessError",
     "evalue": "Command 'source /cvmfs/mu2e.opensciencegrid.org/setupmu2e-art.sh; muse setup ops;echo root://fndcadoor.fnal.gov:1094/mu2e/tape/phy-nts/nts/mu2e/CeEndpointMix1BBSignal/Tutorial_2024_03/tka/1d/eb/nts.mu2e.CeEndpointMix1BBSignal.Tutorial_2024_03.001210_00000014.tka\n | mdh copy-file -s tape -l local -' returned non-zero exit status 2.",
     "output_type": "error",
     "traceback": [
      "\u001b[0;31m---------------------------------------------------------------------------\u001b[0m",
      "\u001b[0;31mOSError\u001b[0m                                   Traceback (most recent call last)",
      "File \u001b[0;32m~/.conda/envs/mu2e_env/lib/python3.12/site-packages/mu2etools/read_data.py:28\u001b[0m, in \u001b[0;36mread_file\u001b[0;34m(filename, quiet)\u001b[0m\n\u001b[1;32m     27\u001b[0m \u001b[38;5;66;03m# Open the file \u001b[39;00m\n\u001b[0;32m---> 28\u001b[0m \u001b[38;5;28;01mwith\u001b[39;00m \u001b[43muproot\u001b[49m\u001b[38;5;241;43m.\u001b[39;49m\u001b[43mopen\u001b[49m\u001b[43m(\u001b[49m\u001b[43mfilename\u001b[49m\u001b[43m)\u001b[49m \u001b[38;5;28;01mas\u001b[39;00m file:\n\u001b[1;32m     29\u001b[0m     \u001b[38;5;28;01mif\u001b[39;00m \u001b[38;5;129;01mnot\u001b[39;00m quiet: \n",
      "File \u001b[0;32m~/.conda/envs/mu2e_env/lib/python3.12/site-packages/uproot/reading.py:142\u001b[0m, in \u001b[0;36mopen\u001b[0;34m(path, object_cache, array_cache, custom_classes, decompression_executor, interpretation_executor, **options)\u001b[0m\n\u001b[1;32m    136\u001b[0m     \u001b[38;5;28;01mraise\u001b[39;00m \u001b[38;5;167;01mValueError\u001b[39;00m(\n\u001b[1;32m    137\u001b[0m         \u001b[38;5;124m\"\u001b[39m\u001b[38;5;124m'\u001b[39m\u001b[38;5;124mpath\u001b[39m\u001b[38;5;124m'\u001b[39m\u001b[38;5;124m must be a string, pathlib.Path, an object with \u001b[39m\u001b[38;5;124m'\u001b[39m\u001b[38;5;124mread\u001b[39m\u001b[38;5;124m'\u001b[39m\u001b[38;5;124m and \u001b[39m\u001b[38;5;124m\"\u001b[39m\n\u001b[1;32m    138\u001b[0m         \u001b[38;5;124m\"\u001b[39m\u001b[38;5;124m'\u001b[39m\u001b[38;5;124mseek\u001b[39m\u001b[38;5;124m'\u001b[39m\u001b[38;5;124m methods, or a length-1 dict of \u001b[39m\u001b[38;5;124m{\u001b[39m\u001b[38;5;124mfile_path: object_path}, \u001b[39m\u001b[38;5;124m\"\u001b[39m\n\u001b[1;32m    139\u001b[0m         \u001b[38;5;124mf\u001b[39m\u001b[38;5;124m\"\u001b[39m\u001b[38;5;124mnot \u001b[39m\u001b[38;5;132;01m{\u001b[39;00mpath\u001b[38;5;132;01m!r}\u001b[39;00m\u001b[38;5;124m\"\u001b[39m\n\u001b[1;32m    140\u001b[0m     )\n\u001b[0;32m--> 142\u001b[0m file \u001b[38;5;241m=\u001b[39m \u001b[43mReadOnlyFile\u001b[49m\u001b[43m(\u001b[49m\n\u001b[1;32m    143\u001b[0m \u001b[43m    \u001b[49m\u001b[43mfile_path\u001b[49m\u001b[43m,\u001b[49m\n\u001b[1;32m    144\u001b[0m \u001b[43m    \u001b[49m\u001b[43mobject_cache\u001b[49m\u001b[38;5;241;43m=\u001b[39;49m\u001b[43mobject_cache\u001b[49m\u001b[43m,\u001b[49m\n\u001b[1;32m    145\u001b[0m \u001b[43m    \u001b[49m\u001b[43marray_cache\u001b[49m\u001b[38;5;241;43m=\u001b[39;49m\u001b[43marray_cache\u001b[49m\u001b[43m,\u001b[49m\n\u001b[1;32m    146\u001b[0m \u001b[43m    \u001b[49m\u001b[43mcustom_classes\u001b[49m\u001b[38;5;241;43m=\u001b[39;49m\u001b[43mcustom_classes\u001b[49m\u001b[43m,\u001b[49m\n\u001b[1;32m    147\u001b[0m \u001b[43m    \u001b[49m\u001b[43mdecompression_executor\u001b[49m\u001b[38;5;241;43m=\u001b[39;49m\u001b[43mdecompression_executor\u001b[49m\u001b[43m,\u001b[49m\n\u001b[1;32m    148\u001b[0m \u001b[43m    \u001b[49m\u001b[43minterpretation_executor\u001b[49m\u001b[38;5;241;43m=\u001b[39;49m\u001b[43minterpretation_executor\u001b[49m\u001b[43m,\u001b[49m\n\u001b[1;32m    149\u001b[0m \u001b[43m    \u001b[49m\u001b[38;5;241;43m*\u001b[39;49m\u001b[38;5;241;43m*\u001b[39;49m\u001b[43moptions\u001b[49m\u001b[43m,\u001b[49m\n\u001b[1;32m    150\u001b[0m \u001b[43m\u001b[49m\u001b[43m)\u001b[49m\n\u001b[1;32m    152\u001b[0m \u001b[38;5;28;01mif\u001b[39;00m object_path \u001b[38;5;129;01mis\u001b[39;00m \u001b[38;5;28;01mNone\u001b[39;00m:\n",
      "File \u001b[0;32m~/.conda/envs/mu2e_env/lib/python3.12/site-packages/uproot/reading.py:561\u001b[0m, in \u001b[0;36mReadOnlyFile.__init__\u001b[0;34m(self, file_path, object_cache, array_cache, custom_classes, decompression_executor, interpretation_executor, **options)\u001b[0m\n\u001b[1;32m    558\u001b[0m source_cls, file_path \u001b[38;5;241m=\u001b[39m uproot\u001b[38;5;241m.\u001b[39m_util\u001b[38;5;241m.\u001b[39mfile_path_to_source_class(\n\u001b[1;32m    559\u001b[0m     file_path, \u001b[38;5;28mself\u001b[39m\u001b[38;5;241m.\u001b[39m_options\n\u001b[1;32m    560\u001b[0m )\n\u001b[0;32m--> 561\u001b[0m \u001b[38;5;28mself\u001b[39m\u001b[38;5;241m.\u001b[39m_source \u001b[38;5;241m=\u001b[39m \u001b[43msource_cls\u001b[49m\u001b[43m(\u001b[49m\u001b[43mfile_path\u001b[49m\u001b[43m,\u001b[49m\u001b[43m \u001b[49m\u001b[38;5;241;43m*\u001b[39;49m\u001b[38;5;241;43m*\u001b[39;49m\u001b[38;5;28;43mself\u001b[39;49m\u001b[38;5;241;43m.\u001b[39;49m\u001b[43m_options\u001b[49m\u001b[43m)\u001b[49m\n\u001b[1;32m    563\u001b[0m \u001b[38;5;28mself\u001b[39m\u001b[38;5;241m.\u001b[39mhook_before_get_chunks()\n",
      "File \u001b[0;32m~/.conda/envs/mu2e_env/lib/python3.12/site-packages/uproot/source/fsspec.py:45\u001b[0m, in \u001b[0;36mFSSpecSource.__init__\u001b[0;34m(self, file_path, coalesce_config, **options)\u001b[0m\n\u001b[1;32m     43\u001b[0m \u001b[38;5;28mself\u001b[39m\u001b[38;5;241m.\u001b[39m_file \u001b[38;5;241m=\u001b[39m \u001b[38;5;28;01mNone\u001b[39;00m\n\u001b[0;32m---> 45\u001b[0m \u001b[38;5;28;43mself\u001b[39;49m\u001b[38;5;241;43m.\u001b[39;49m\u001b[43m_open\u001b[49m\u001b[43m(\u001b[49m\u001b[43m)\u001b[49m\n\u001b[1;32m     47\u001b[0m \u001b[38;5;28mself\u001b[39m\u001b[38;5;241m.\u001b[39m\u001b[38;5;21m__enter__\u001b[39m()\n",
      "File \u001b[0;32m~/.conda/envs/mu2e_env/lib/python3.12/site-packages/uproot/source/fsspec.py:59\u001b[0m, in \u001b[0;36mFSSpecSource._open\u001b[0;34m(self)\u001b[0m\n\u001b[1;32m     58\u001b[0m \u001b[38;5;28mself\u001b[39m\u001b[38;5;241m.\u001b[39m_executor \u001b[38;5;241m=\u001b[39m FSSpecLoopExecutor()\n\u001b[0;32m---> 59\u001b[0m \u001b[38;5;28mself\u001b[39m\u001b[38;5;241m.\u001b[39m_file \u001b[38;5;241m=\u001b[39m \u001b[38;5;28;43mself\u001b[39;49m\u001b[38;5;241;43m.\u001b[39;49m\u001b[43m_fs\u001b[49m\u001b[38;5;241;43m.\u001b[39;49m\u001b[43mopen\u001b[49m\u001b[43m(\u001b[49m\u001b[38;5;28;43mself\u001b[39;49m\u001b[38;5;241;43m.\u001b[39;49m\u001b[43m_file_path\u001b[49m\u001b[43m)\u001b[49m\n",
      "File \u001b[0;32m~/.conda/envs/mu2e_env/lib/python3.12/site-packages/fsspec_xrootd/xrootd.py:706\u001b[0m, in \u001b[0;36mXRootDFileSystem.open\u001b[0;34m(self, path, mode, block_size, cache_options, compression, **kwargs)\u001b[0m\n\u001b[1;32m    705\u001b[0m ac \u001b[38;5;241m=\u001b[39m kwargs\u001b[38;5;241m.\u001b[39mpop(\u001b[38;5;124m\"\u001b[39m\u001b[38;5;124mautocommit\u001b[39m\u001b[38;5;124m\"\u001b[39m, \u001b[38;5;129;01mnot\u001b[39;00m \u001b[38;5;28mself\u001b[39m\u001b[38;5;241m.\u001b[39m_intrans)\n\u001b[0;32m--> 706\u001b[0m f \u001b[38;5;241m=\u001b[39m \u001b[38;5;28;43mself\u001b[39;49m\u001b[38;5;241;43m.\u001b[39;49m\u001b[43m_open\u001b[49m\u001b[43m(\u001b[49m\n\u001b[1;32m    707\u001b[0m \u001b[43m    \u001b[49m\u001b[43mpath\u001b[49m\u001b[43m,\u001b[49m\n\u001b[1;32m    708\u001b[0m \u001b[43m    \u001b[49m\u001b[43mmode\u001b[49m\u001b[38;5;241;43m=\u001b[39;49m\u001b[43mmode\u001b[49m\u001b[43m,\u001b[49m\n\u001b[1;32m    709\u001b[0m \u001b[43m    \u001b[49m\u001b[43mblock_size\u001b[49m\u001b[38;5;241;43m=\u001b[39;49m\u001b[43mblock_size\u001b[49m\u001b[43m,\u001b[49m\n\u001b[1;32m    710\u001b[0m \u001b[43m    \u001b[49m\u001b[43mautocommit\u001b[49m\u001b[38;5;241;43m=\u001b[39;49m\u001b[43mac\u001b[49m\u001b[43m,\u001b[49m\n\u001b[1;32m    711\u001b[0m \u001b[43m    \u001b[49m\u001b[43mcache_options\u001b[49m\u001b[38;5;241;43m=\u001b[39;49m\u001b[43mcache_options\u001b[49m\u001b[43m,\u001b[49m\n\u001b[1;32m    712\u001b[0m \u001b[43m    \u001b[49m\u001b[38;5;241;43m*\u001b[39;49m\u001b[38;5;241;43m*\u001b[39;49m\u001b[43mkwargs\u001b[49m\u001b[43m,\u001b[49m\n\u001b[1;32m    713\u001b[0m \u001b[43m\u001b[49m\u001b[43m)\u001b[49m\n\u001b[1;32m    714\u001b[0m \u001b[38;5;28;01mif\u001b[39;00m compression \u001b[38;5;129;01mis\u001b[39;00m \u001b[38;5;129;01mnot\u001b[39;00m \u001b[38;5;28;01mNone\u001b[39;00m:\n",
      "File \u001b[0;32m~/.conda/envs/mu2e_env/lib/python3.12/site-packages/fsspec_xrootd/xrootd.py:663\u001b[0m, in \u001b[0;36mXRootDFileSystem._open\u001b[0;34m(self, path, mode, block_size, autocommit, cache_options, **kwargs)\u001b[0m\n\u001b[1;32m    654\u001b[0m \u001b[38;5;28;01mdef\u001b[39;00m \u001b[38;5;21m_open\u001b[39m(\n\u001b[1;32m    655\u001b[0m     \u001b[38;5;28mself\u001b[39m,\n\u001b[1;32m    656\u001b[0m     path: \u001b[38;5;28mstr\u001b[39m,\n\u001b[0;32m   (...)\u001b[0m\n\u001b[1;32m    661\u001b[0m     \u001b[38;5;241m*\u001b[39m\u001b[38;5;241m*\u001b[39mkwargs: Any,\n\u001b[1;32m    662\u001b[0m ) \u001b[38;5;241m-\u001b[39m\u001b[38;5;241m>\u001b[39m XRootDFile:\n\u001b[0;32m--> 663\u001b[0m     \u001b[38;5;28;01mreturn\u001b[39;00m \u001b[43mXRootDFile\u001b[49m\u001b[43m(\u001b[49m\n\u001b[1;32m    664\u001b[0m \u001b[43m        \u001b[49m\u001b[38;5;28;43mself\u001b[39;49m\u001b[43m,\u001b[49m\n\u001b[1;32m    665\u001b[0m \u001b[43m        \u001b[49m\u001b[43mpath\u001b[49m\u001b[43m,\u001b[49m\n\u001b[1;32m    666\u001b[0m \u001b[43m        \u001b[49m\u001b[43mmode\u001b[49m\u001b[43m,\u001b[49m\n\u001b[1;32m    667\u001b[0m \u001b[43m        \u001b[49m\u001b[43mblock_size\u001b[49m\u001b[43m,\u001b[49m\n\u001b[1;32m    668\u001b[0m \u001b[43m        \u001b[49m\u001b[43mautocommit\u001b[49m\u001b[43m,\u001b[49m\n\u001b[1;32m    669\u001b[0m \u001b[43m        \u001b[49m\u001b[43mcache_options\u001b[49m\u001b[38;5;241;43m=\u001b[39;49m\u001b[43mcache_options\u001b[49m\u001b[43m,\u001b[49m\n\u001b[1;32m    670\u001b[0m \u001b[43m        \u001b[49m\u001b[38;5;241;43m*\u001b[39;49m\u001b[38;5;241;43m*\u001b[39;49m\u001b[43mkwargs\u001b[49m\u001b[43m,\u001b[49m\n\u001b[1;32m    671\u001b[0m \u001b[43m    \u001b[49m\u001b[43m)\u001b[49m\n",
      "File \u001b[0;32m~/.conda/envs/mu2e_env/lib/python3.12/site-packages/fsspec_xrootd/xrootd.py:768\u001b[0m, in \u001b[0;36mXRootDFile.__init__\u001b[0;34m(self, fs, path, mode, block_size, autocommit, cache_type, cache_options, size, **kwargs)\u001b[0m\n\u001b[1;32m    767\u001b[0m \u001b[38;5;28;01mif\u001b[39;00m \u001b[38;5;129;01mnot\u001b[39;00m status\u001b[38;5;241m.\u001b[39mok:\n\u001b[0;32m--> 768\u001b[0m     \u001b[38;5;28;01mraise\u001b[39;00m \u001b[38;5;167;01mOSError\u001b[39;00m(\u001b[38;5;124mf\u001b[39m\u001b[38;5;124m\"\u001b[39m\u001b[38;5;124mFile did not open properly: \u001b[39m\u001b[38;5;132;01m{\u001b[39;00mstatus\u001b[38;5;241m.\u001b[39mmessage\u001b[38;5;132;01m}\u001b[39;00m\u001b[38;5;124m\"\u001b[39m)\n\u001b[1;32m    770\u001b[0m \u001b[38;5;28mself\u001b[39m\u001b[38;5;241m.\u001b[39mmetaOffset \u001b[38;5;241m=\u001b[39m \u001b[38;5;241m0\u001b[39m\n",
      "\u001b[0;31mOSError\u001b[0m: File did not open properly: [ERROR] Server responded with an error: [3011] No such file\n",
      "\nDuring handling of the above exception, another exception occurred:\n",
      "\u001b[0;31mCalledProcessError\u001b[0m                        Traceback (most recent call last)",
      "Cell \u001b[0;32mIn[6], line 4\u001b[0m\n\u001b[1;32m      1\u001b[0m \u001b[38;5;66;03m# Some issue with TrkAna tutorial files?\u001b[39;00m\n\u001b[1;32m      2\u001b[0m \u001b[38;5;66;03m# I don't have time to debug this right now.\u001b[39;00m\n\u001b[1;32m      3\u001b[0m \u001b[38;5;28mprint\u001b[39m(file_list)\n\u001b[0;32m----> 4\u001b[0m file \u001b[38;5;241m=\u001b[39m \u001b[43mtest_read_file\u001b[49m\u001b[43m(\u001b[49m\u001b[43mfile_list\u001b[49m\u001b[43m[\u001b[49m\u001b[38;5;241;43m1\u001b[39;49m\u001b[43m]\u001b[49m\u001b[43m)\u001b[49m\n",
      "Cell \u001b[0;32mIn[4], line 2\u001b[0m, in \u001b[0;36mtest_read_file\u001b[0;34m(filename)\u001b[0m\n\u001b[1;32m      1\u001b[0m \u001b[38;5;28;01mdef\u001b[39;00m \u001b[38;5;21mtest_read_file\u001b[39m(filename):  \n\u001b[0;32m----> 2\u001b[0m     file \u001b[38;5;241m=\u001b[39m \u001b[43mrd\u001b[49m\u001b[38;5;241;43m.\u001b[39;49m\u001b[43mread_file\u001b[49m\u001b[43m(\u001b[49m\u001b[43mfilename\u001b[49m\u001b[43m)\u001b[49m \n\u001b[1;32m      3\u001b[0m     \u001b[38;5;28;01mreturn\u001b[39;00m file\n",
      "File \u001b[0;32m~/.conda/envs/mu2e_env/lib/python3.12/site-packages/mu2etools/read_data.py:38\u001b[0m, in \u001b[0;36mread_file\u001b[0;34m(filename, quiet)\u001b[0m\n\u001b[1;32m     36\u001b[0m commands \u001b[38;5;241m+\u001b[39m\u001b[38;5;241m=\u001b[39m \u001b[38;5;124mf\u001b[39m\u001b[38;5;124m'\u001b[39m\u001b[38;5;124mecho \u001b[39m\u001b[38;5;132;01m{\u001b[39;00mfilename\u001b[38;5;132;01m}\u001b[39;00m\u001b[38;5;124m | mdh copy-file -s tape -l local -\u001b[39m\u001b[38;5;124m'\u001b[39m\n\u001b[1;32m     37\u001b[0m \u001b[38;5;66;03m# Execute commands\u001b[39;00m\n\u001b[0;32m---> 38\u001b[0m \u001b[43msubprocess\u001b[49m\u001b[38;5;241;43m.\u001b[39;49m\u001b[43mcheck_output\u001b[49m\u001b[43m(\u001b[49m\u001b[43mcommands\u001b[49m\u001b[43m,\u001b[49m\u001b[43m \u001b[49m\u001b[43mshell\u001b[49m\u001b[38;5;241;43m=\u001b[39;49m\u001b[38;5;28;43;01mTrue\u001b[39;49;00m\u001b[43m,\u001b[49m\u001b[43m \u001b[49m\u001b[43muniversal_newlines\u001b[49m\u001b[38;5;241;43m=\u001b[39;49m\u001b[38;5;28;43;01mTrue\u001b[39;49;00m\u001b[43m)\u001b[49m\n\u001b[1;32m     39\u001b[0m \u001b[38;5;66;03m# Return the opened file inside a 'with' statement\u001b[39;00m\n\u001b[1;32m     40\u001b[0m \u001b[38;5;28;01mwith\u001b[39;00m uproot\u001b[38;5;241m.\u001b[39mopen(filename) \u001b[38;5;28;01mas\u001b[39;00m file:\n",
      "File \u001b[0;32m~/.conda/envs/mu2e_env/lib/python3.12/subprocess.py:466\u001b[0m, in \u001b[0;36mcheck_output\u001b[0;34m(timeout, *popenargs, **kwargs)\u001b[0m\n\u001b[1;32m    463\u001b[0m         empty \u001b[38;5;241m=\u001b[39m \u001b[38;5;124mb\u001b[39m\u001b[38;5;124m'\u001b[39m\u001b[38;5;124m'\u001b[39m\n\u001b[1;32m    464\u001b[0m     kwargs[\u001b[38;5;124m'\u001b[39m\u001b[38;5;124minput\u001b[39m\u001b[38;5;124m'\u001b[39m] \u001b[38;5;241m=\u001b[39m empty\n\u001b[0;32m--> 466\u001b[0m \u001b[38;5;28;01mreturn\u001b[39;00m \u001b[43mrun\u001b[49m\u001b[43m(\u001b[49m\u001b[38;5;241;43m*\u001b[39;49m\u001b[43mpopenargs\u001b[49m\u001b[43m,\u001b[49m\u001b[43m \u001b[49m\u001b[43mstdout\u001b[49m\u001b[38;5;241;43m=\u001b[39;49m\u001b[43mPIPE\u001b[49m\u001b[43m,\u001b[49m\u001b[43m \u001b[49m\u001b[43mtimeout\u001b[49m\u001b[38;5;241;43m=\u001b[39;49m\u001b[43mtimeout\u001b[49m\u001b[43m,\u001b[49m\u001b[43m \u001b[49m\u001b[43mcheck\u001b[49m\u001b[38;5;241;43m=\u001b[39;49m\u001b[38;5;28;43;01mTrue\u001b[39;49;00m\u001b[43m,\u001b[49m\n\u001b[1;32m    467\u001b[0m \u001b[43m           \u001b[49m\u001b[38;5;241;43m*\u001b[39;49m\u001b[38;5;241;43m*\u001b[39;49m\u001b[43mkwargs\u001b[49m\u001b[43m)\u001b[49m\u001b[38;5;241m.\u001b[39mstdout\n",
      "File \u001b[0;32m~/.conda/envs/mu2e_env/lib/python3.12/subprocess.py:571\u001b[0m, in \u001b[0;36mrun\u001b[0;34m(input, capture_output, timeout, check, *popenargs, **kwargs)\u001b[0m\n\u001b[1;32m    569\u001b[0m     retcode \u001b[38;5;241m=\u001b[39m process\u001b[38;5;241m.\u001b[39mpoll()\n\u001b[1;32m    570\u001b[0m     \u001b[38;5;28;01mif\u001b[39;00m check \u001b[38;5;129;01mand\u001b[39;00m retcode:\n\u001b[0;32m--> 571\u001b[0m         \u001b[38;5;28;01mraise\u001b[39;00m CalledProcessError(retcode, process\u001b[38;5;241m.\u001b[39margs,\n\u001b[1;32m    572\u001b[0m                                  output\u001b[38;5;241m=\u001b[39mstdout, stderr\u001b[38;5;241m=\u001b[39mstderr)\n\u001b[1;32m    573\u001b[0m \u001b[38;5;28;01mreturn\u001b[39;00m CompletedProcess(process\u001b[38;5;241m.\u001b[39margs, retcode, stdout, stderr)\n",
      "\u001b[0;31mCalledProcessError\u001b[0m: Command 'source /cvmfs/mu2e.opensciencegrid.org/setupmu2e-art.sh; muse setup ops;echo root://fndcadoor.fnal.gov:1094/mu2e/tape/phy-nts/nts/mu2e/CeEndpointMix1BBSignal/Tutorial_2024_03/tka/1d/eb/nts.mu2e.CeEndpointMix1BBSignal.Tutorial_2024_03.001210_00000014.tka\n | mdh copy-file -s tape -l local -' returned non-zero exit status 2."
     ]
    }
   ],
   "source": [
    "# Some issue with TrkAna tutorial files?\n",
    "# I don't have time to debug this right now.\n",
    "print(file_list)\n",
    "file = test_read_file(file_list[1])"
   ]
  }
 ],
 "metadata": {
  "kernelspec": {
   "display_name": "mu2e_env",
   "language": "python",
   "name": "mu2e_env"
  },
  "language_info": {
   "codemirror_mode": {
    "name": "ipython",
    "version": 3
   },
   "file_extension": ".py",
   "mimetype": "text/x-python",
   "name": "python",
   "nbconvert_exporter": "python",
   "pygments_lexer": "ipython3",
   "version": "3.12.5"
  }
 },
 "nbformat": 4,
 "nbformat_minor": 5
}
